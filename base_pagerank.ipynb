{
 "cells": [
  {
   "cell_type": "code",
   "execution_count": 1,
   "id": "e08c06bb-1f5c-40b0-bdce-6c8342a6c05f",
   "metadata": {},
   "outputs": [],
   "source": [
    "from collections import defaultdict\n",
    "import struct\n",
    "from sys import getsizeof\n",
    "import numpy as np\n",
    "import time"
   ]
  },
  {
   "cell_type": "code",
   "execution_count": 2,
   "id": "641fd32e-2c26-4c10-99c4-270a1f43b1d1",
   "metadata": {},
   "outputs": [],
   "source": [
    "def data_solve(file, data):\n",
    "    m = defaultdict(list)\n",
    "    n = defaultdict(int)\n",
    "    #得到节点出度，以及知道目的节点由哪些节点指向\n",
    "    with open(file, 'r') as f:\n",
    "        for i in f:\n",
    "            a,b = [int(x) for x in i.split()]\n",
    "            n[a]+= 1\n",
    "            m[b].append(a)\n",
    "    #使用二进制读写来加速读取速度\n",
    "    with open(data,'wb') as f:\n",
    "        for a,b in sorted(m.items()):\n",
    "            x=a.to_bytes(2,\"little\")\n",
    "            h=len(b)\n",
    "            x=x+h.to_bytes(2,\"little\")\n",
    "            for i in b:\n",
    "                x=x+i.to_bytes(2,\"little\")\n",
    "            f.write(x)\n",
    "    return n"
   ]
  },
  {
   "cell_type": "code",
   "execution_count": 3,
   "id": "90dfd568-bb40-4d8e-89ce-af55eb120a38",
   "metadata": {},
   "outputs": [],
   "source": [
    "def data_decode(data):\n",
    "    m = defaultdict(list)\n",
    "    with open(data,'rb') as f:\n",
    "        #文件指针\n",
    "        i=0\n",
    "        k=f.read()\n",
    "        while i!=len(k):\n",
    "            x=int.from_bytes(k[i:i+2], byteorder='little', signed=False)\n",
    "            i+=2\n",
    "            h=int.from_bytes(k[i:i+2], byteorder='little', signed=False)\n",
    "            i+=2\n",
    "            for j in range(h):\n",
    "                m[x].append(int.from_bytes(k[i:i+2], byteorder='little', signed=False))\n",
    "                i+=2\n",
    "    return m"
   ]
  },
  {
   "cell_type": "code",
   "execution_count": 4,
   "id": "eb16228d-1a9f-423b-80eb-2e20c62efb98",
   "metadata": {},
   "outputs": [],
   "source": [
    "def base_pagerank(file,data,belta,error,max_iteration):\n",
    "    nodes=data_solve(file, 'data.bin')\n",
    "    M=data_decode('data.bin')\n",
    "    #只考虑有出度或是入度的节点\n",
    "    s=set(sorted(sorted(M)+sorted(nodes)))\n",
    "    sl=list(s)\n",
    "    idx={}\n",
    "    for i in range(len(sl)):\n",
    "        idx[sl[i]]=i\n",
    "    N=len(set(sorted(M)+sorted(nodes)))\n",
    "    start = time.time()\n",
    "    #使用Teleport解决Dead Ends问题\n",
    "    a=np.zeros(N)\n",
    "    for j,i in zip(range(N),s):\n",
    "            if nodes[i]==0:\n",
    "                a[j]=1/N\n",
    "    r=np.ones(N)/N\n",
    "    r_new=np.ones(N)\n",
    "    temp2=(1-belta)/N\n",
    "        #迭代直至收敛\n",
    "    iteration=0\n",
    "    while True:\n",
    "        iteration+=1\n",
    "        for i,h in zip(s,range(N)):\n",
    "            m=np.zeros(N)\n",
    "            temp1=np.dot(a,r)\n",
    "            if len(M[i])!=0:\n",
    "                for j in M[i]:\n",
    "                    temp1+=r[idx[j]]/nodes[j]\n",
    "            temp1=belta*temp1\n",
    "            r_new[h]=temp1+temp2\n",
    "        if sum(abs(r_new-r))<error or iteration==max_iteration:\n",
    "            break\n",
    "        r=r_new.copy()\n",
    "    end = time.time()\n",
    "    print(iteration)\n",
    "    print('time: {}s.'.format(end - start))\n",
    "    index=np.argsort(r_new)[::-1][:100]\n",
    "    c_index=[sl[i] for i in index]\n",
    "    score=np.sort(r_new)[::-1][:100]\n",
    "    return c_index,score\n",
    "        "
   ]
  },
  {
   "cell_type": "code",
   "execution_count": 5,
   "id": "72368b5d-714b-4898-9a0d-39ff38adad34",
   "metadata": {},
   "outputs": [],
   "source": [
    "import scipy\n",
    "import networkx as nx\n",
    "def networkx_pagerank(file):\n",
    "    G = nx.DiGraph()\n",
    "    index=list()\n",
    "    score=list()\n",
    "    with open(file) as f:\n",
    "        for i in f:\n",
    "            h,t = [int(x) for x in i.split()]\n",
    "            G.add_edge(h,t)\n",
    "    pr = nx.pagerank(G, alpha=0.85, max_iter=100, tol=1e-6)\n",
    "    i=0\n",
    "    for node, value in sorted(pr.items(), key=lambda x: x[1],\n",
    "                                  reverse=True):\n",
    "        i+=1\n",
    "        index.append(node)\n",
    "        score.append(value)\n",
    "        if i==100:\n",
    "            break\n",
    "    return index,score\n",
    "        "
   ]
  },
  {
   "cell_type": "code",
   "execution_count": 6,
   "id": "2469d909-6b2e-4bd9-a9ef-75f47fde7b27",
   "metadata": {},
   "outputs": [],
   "source": [
    "def write_back_result(c_index,score,name):\n",
    "    with open(name,'w') as f:\n",
    "        for index,scorei in zip(c_index,score):\n",
    "            f.write(\"{}\\t{}\\n\".format(index,scorei))"
   ]
  },
  {
   "cell_type": "code",
   "execution_count": 8,
   "id": "644fc52d-7fb1-4576-a058-aa66fce9ba7e",
   "metadata": {},
   "outputs": [
    {
     "name": "stdout",
     "output_type": "stream",
     "text": [
      "100\n",
      "time: 7.214314937591553s.\n"
     ]
    }
   ],
   "source": [
    "if __name__ == \"__main__\":\n",
    "    c_index,score=base_pagerank('Data.txt', 'data.bin',0.85,1e-10,1000)\n",
    "    write_back_result(c_index,score,\"base_result.txt\")\n",
    "    \n",
    "    \n",
    "    \n"
   ]
  },
  {
   "cell_type": "code",
   "execution_count": 10,
   "id": "248fdde2-fd2a-41b6-a9a1-ba367fe58d3e",
   "metadata": {},
   "outputs": [],
   "source": [
    "a,b=networkx_pagerank('Data.txt')\n",
    "write_back_result(a,b,'networkx_result.txt')"
   ]
  },
  {
   "cell_type": "code",
   "execution_count": null,
   "id": "d0577653-ca5e-4b13-81df-26c426266d6b",
   "metadata": {},
   "outputs": [],
   "source": []
  },
  {
   "cell_type": "code",
   "execution_count": null,
   "id": "e7c01f1f-6cf9-4944-bed5-bda1d9b9feba",
   "metadata": {},
   "outputs": [],
   "source": []
  },
  {
   "cell_type": "code",
   "execution_count": null,
   "id": "2cd3342b-dd2c-41c3-9f19-d5d123a94080",
   "metadata": {},
   "outputs": [],
   "source": []
  },
  {
   "cell_type": "code",
   "execution_count": null,
   "id": "e3b9c628-d914-46ec-b411-0d2e17624e8f",
   "metadata": {},
   "outputs": [],
   "source": []
  },
  {
   "cell_type": "code",
   "execution_count": null,
   "id": "b2978da1-7e99-428a-be0d-1d935e59bad5",
   "metadata": {},
   "outputs": [],
   "source": []
  },
  {
   "cell_type": "code",
   "execution_count": null,
   "id": "58dc235a-5ff0-46f7-82ff-a81e6fbf40dd",
   "metadata": {},
   "outputs": [],
   "source": []
  }
 ],
 "metadata": {
  "kernelspec": {
   "display_name": "Python 3 (ipykernel)",
   "language": "python",
   "name": "python3"
  },
  "language_info": {
   "codemirror_mode": {
    "name": "ipython",
    "version": 3
   },
   "file_extension": ".py",
   "mimetype": "text/x-python",
   "name": "python",
   "nbconvert_exporter": "python",
   "pygments_lexer": "ipython3",
   "version": "3.9.12"
  }
 },
 "nbformat": 4,
 "nbformat_minor": 5
}
